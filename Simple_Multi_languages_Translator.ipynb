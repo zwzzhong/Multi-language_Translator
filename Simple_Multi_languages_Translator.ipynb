{
  "nbformat": 4,
  "nbformat_minor": 0,
  "metadata": {
    "colab": {
      "name": "Simple Multi-languages Translator.ipynb",
      "version": "0.3.2",
      "provenance": [],
      "include_colab_link": true
    },
    "kernelspec": {
      "name": "python3",
      "display_name": "Python 3"
    }
  },
  "cells": [
    {
      "cell_type": "markdown",
      "metadata": {
        "id": "view-in-github",
        "colab_type": "text"
      },
      "source": [
        "<a href=\"https://colab.research.google.com/github/zwzzhong/Multi-language_Translator/blob/master/Simple_Multi_languages_Translator.ipynb\" target=\"_parent\"><img src=\"https://colab.research.google.com/assets/colab-badge.svg\" alt=\"Open In Colab\"/></a>"
      ]
    },
    {
      "cell_type": "markdown",
      "metadata": {
        "id": "uCA6Z0VIjIxu",
        "colab_type": "text"
      },
      "source": [
        "## **Simple Multi-languages Translator**"
      ]
    },
    {
      "cell_type": "code",
      "metadata": {
        "id": "vKlt3ZYai4kt",
        "colab_type": "code",
        "colab": {}
      },
      "source": [
        "!pip -q install -U textblob"
      ],
      "execution_count": 0,
      "outputs": []
    },
    {
      "cell_type": "code",
      "metadata": {
        "id": "gx-LCj4CM6on",
        "colab_type": "code",
        "outputId": "706f7738-4f79-47eb-d9ef-6b33482f5c6f",
        "colab": {
          "base_uri": "https://localhost:8080/",
          "height": 51
        }
      },
      "source": [
        "import pandas as pd\n",
        "import nltk\n",
        "nltk.download('punkt')\n",
        "from textblob import TextBlob"
      ],
      "execution_count": 0,
      "outputs": [
        {
          "output_type": "stream",
          "text": [
            "[nltk_data] Downloading package punkt to /root/nltk_data...\n",
            "[nltk_data]   Package punkt is already up-to-date!\n"
          ],
          "name": "stdout"
        }
      ]
    },
    {
      "cell_type": "markdown",
      "metadata": {
        "id": "TSMFN1oDpICm",
        "colab_type": "text"
      },
      "source": [
        "*    **Put verbs in any language**\n"
      ]
    },
    {
      "cell_type": "code",
      "metadata": {
        "id": "69DHfsXQjBGk",
        "colab_type": "code",
        "outputId": "977f0f42-fa5c-44e4-bc90-558d5ac6ed0d",
        "colab": {
          "base_uri": "https://localhost:8080/",
          "height": 142
        }
      },
      "source": [
        "dfZH= pd.DataFrame(\n",
        "  {\"RawInputsZH\": [\"吃\",\n",
        "                    \"喝\",\n",
        "                    \"玩\"]}\n",
        ")\n",
        "\n",
        "dfZH.head()"
      ],
      "execution_count": 0,
      "outputs": [
        {
          "output_type": "execute_result",
          "data": {
            "text/html": [
              "<div>\n",
              "<style scoped>\n",
              "    .dataframe tbody tr th:only-of-type {\n",
              "        vertical-align: middle;\n",
              "    }\n",
              "\n",
              "    .dataframe tbody tr th {\n",
              "        vertical-align: top;\n",
              "    }\n",
              "\n",
              "    .dataframe thead th {\n",
              "        text-align: right;\n",
              "    }\n",
              "</style>\n",
              "<table border=\"1\" class=\"dataframe\">\n",
              "  <thead>\n",
              "    <tr style=\"text-align: right;\">\n",
              "      <th></th>\n",
              "      <th>RawInputsZH</th>\n",
              "    </tr>\n",
              "  </thead>\n",
              "  <tbody>\n",
              "    <tr>\n",
              "      <th>0</th>\n",
              "      <td>吃</td>\n",
              "    </tr>\n",
              "    <tr>\n",
              "      <th>1</th>\n",
              "      <td>喝</td>\n",
              "    </tr>\n",
              "    <tr>\n",
              "      <th>2</th>\n",
              "      <td>玩</td>\n",
              "    </tr>\n",
              "  </tbody>\n",
              "</table>\n",
              "</div>"
            ],
            "text/plain": [
              "  RawInputsZH\n",
              "0           吃\n",
              "1           喝\n",
              "2           玩"
            ]
          },
          "metadata": {
            "tags": []
          },
          "execution_count": 99
        }
      ]
    },
    {
      "cell_type": "code",
      "metadata": {
        "id": "SvQfTzTAuSss",
        "colab_type": "code",
        "outputId": "293aa648-dad1-4713-9ca9-70f8c64ffa37",
        "colab": {
          "base_uri": "https://localhost:8080/",
          "height": 142
        }
      },
      "source": [
        "dfFR = pd.DataFrame(\n",
        "  {\"RawInputsFR\": [\"acheter\",\n",
        "                    \"pousser\",\n",
        "                    \"parler\"]}\n",
        ")\n",
        "\n",
        "dfFR.head()"
      ],
      "execution_count": 0,
      "outputs": [
        {
          "output_type": "execute_result",
          "data": {
            "text/html": [
              "<div>\n",
              "<style scoped>\n",
              "    .dataframe tbody tr th:only-of-type {\n",
              "        vertical-align: middle;\n",
              "    }\n",
              "\n",
              "    .dataframe tbody tr th {\n",
              "        vertical-align: top;\n",
              "    }\n",
              "\n",
              "    .dataframe thead th {\n",
              "        text-align: right;\n",
              "    }\n",
              "</style>\n",
              "<table border=\"1\" class=\"dataframe\">\n",
              "  <thead>\n",
              "    <tr style=\"text-align: right;\">\n",
              "      <th></th>\n",
              "      <th>RawInputsFR</th>\n",
              "    </tr>\n",
              "  </thead>\n",
              "  <tbody>\n",
              "    <tr>\n",
              "      <th>0</th>\n",
              "      <td>acheter</td>\n",
              "    </tr>\n",
              "    <tr>\n",
              "      <th>1</th>\n",
              "      <td>pousser</td>\n",
              "    </tr>\n",
              "    <tr>\n",
              "      <th>2</th>\n",
              "      <td>parler</td>\n",
              "    </tr>\n",
              "  </tbody>\n",
              "</table>\n",
              "</div>"
            ],
            "text/plain": [
              "  RawInputsFR\n",
              "0     acheter\n",
              "1     pousser\n",
              "2      parler"
            ]
          },
          "metadata": {
            "tags": []
          },
          "execution_count": 100
        }
      ]
    },
    {
      "cell_type": "markdown",
      "metadata": {
        "id": "DuA1TQcopsNC",
        "colab_type": "text"
      },
      "source": [
        "\n",
        "*   **Create function to translate into English and show the singular & Plural form**\n",
        "*  **Also show the Spanish version**\n",
        "\n"
      ]
    },
    {
      "cell_type": "code",
      "metadata": {
        "id": "G3U7I7k2jDCl",
        "colab_type": "code",
        "colab": {}
      },
      "source": [
        "def translate(row):\n",
        "  \"This operates on a row of a Pandas DataFrame and performs an action\"\n",
        "  \n",
        "  result = TextBlob(row)\n",
        "  English_version = result.translate(to=\"en\")\n",
        "  Singular_version = English_version.words[0].singularize()\n",
        "  Pluralize_version = English_version.words[0].pluralize()\n",
        "  Spanish_version = English_version.translate(to=\"es\")\n",
        "  print(f\"Raw phrase: {row} \\n\\nSingular in English: {Singular_version} \\nPlural in English: {Pluralize_version} \\nSpanish Version: {Spanish_version}\\n\\n--------------------\\n\")\n",
        "  return Spanish_version\n",
        " "
      ],
      "execution_count": 0,
      "outputs": []
    },
    {
      "cell_type": "markdown",
      "metadata": {
        "id": "fBTqXWnbqe0O",
        "colab_type": "text"
      },
      "source": [
        "\n",
        "\n",
        "*   **Display the output in nice layout to increase readability**\n",
        "\n"
      ]
    },
    {
      "cell_type": "code",
      "metadata": {
        "id": "XoZchqi4jDkG",
        "colab_type": "code",
        "outputId": "cd432325-7e17-4fb8-8eeb-25c147071b43",
        "colab": {
          "base_uri": "https://localhost:8080/",
          "height": 425
        }
      },
      "source": [
        "dfZH[\"DictZH\"] = dfZH[\"RawInputsZH\"].apply(translate)"
      ],
      "execution_count": 0,
      "outputs": [
        {
          "output_type": "stream",
          "text": [
            "Raw phrase: 吃 \n",
            "\n",
            "Singular in English: eat \n",
            "Plural in English: eats \n",
            "Spanish Version: comer\n",
            "\n",
            "--------------------\n",
            "\n",
            "Raw phrase: 喝 \n",
            "\n",
            "Singular in English: drink \n",
            "Plural in English: drinks \n",
            "Spanish Version: beber\n",
            "\n",
            "--------------------\n",
            "\n",
            "Raw phrase: 玩 \n",
            "\n",
            "Singular in English: play \n",
            "Plural in English: plays \n",
            "Spanish Version: jugar\n",
            "\n",
            "--------------------\n",
            "\n"
          ],
          "name": "stdout"
        }
      ]
    },
    {
      "cell_type": "code",
      "metadata": {
        "id": "jh-Luu3-urI3",
        "colab_type": "code",
        "outputId": "2b5f6f81-b70f-4351-bf71-302d5016bfce",
        "colab": {
          "base_uri": "https://localhost:8080/",
          "height": 425
        }
      },
      "source": [
        "dfFR[\"DictFR\"] = dfFR[\"RawInputsFR\"].apply(translate)"
      ],
      "execution_count": 0,
      "outputs": [
        {
          "output_type": "stream",
          "text": [
            "Raw phrase: acheter \n",
            "\n",
            "Singular in English: buy \n",
            "Plural in English: buys \n",
            "Spanish Version: comprar\n",
            "\n",
            "--------------------\n",
            "\n",
            "Raw phrase: pousser \n",
            "\n",
            "Singular in English: push \n",
            "Plural in English: pushes \n",
            "Spanish Version: empujar\n",
            "\n",
            "--------------------\n",
            "\n",
            "Raw phrase: parler \n",
            "\n",
            "Singular in English: speak \n",
            "Plural in English: speaks \n",
            "Spanish Version: hablar\n",
            "\n",
            "--------------------\n",
            "\n"
          ],
          "name": "stdout"
        }
      ]
    }
  ]
}